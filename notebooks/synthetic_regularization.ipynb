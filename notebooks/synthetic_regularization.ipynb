{
 "cells": [
  {
   "cell_type": "markdown",
   "id": "a969c927",
   "metadata": {},
   "source": [
    "## Setup"
   ]
  },
  {
   "cell_type": "code",
   "execution_count": 1,
   "id": "ac7ca92a",
   "metadata": {},
   "outputs": [],
   "source": [
    "import os\n",
    "import sys\n",
    "\n",
    "root = os.path.dirname(os.getcwd())\n",
    "sys.path.append(root)\n",
    "sys.path.append(os.path.join(root, \"src\"))"
   ]
  },
  {
   "cell_type": "code",
   "execution_count": 2,
   "id": "83a17853",
   "metadata": {},
   "outputs": [],
   "source": [
    "import matplotlib.pyplot as plt\n",
    "import numpy as np\n",
    "import seaborn as sns\n",
    "\n",
    "from src.synthetic_regularization import run\n",
    "from src.utils.parser import Parser"
   ]
  },
  {
   "cell_type": "code",
   "execution_count": 3,
   "id": "f9801209",
   "metadata": {},
   "outputs": [
    {
     "data": {
      "text/html": [
       "\n",
       "<style>\n",
       ".output_png {\n",
       "    display: table-cell;\n",
       "    text-align: center;\n",
       "    vertical-align: middle;\n",
       "}\n",
       "</style>\n"
      ],
      "text/plain": [
       "<IPython.core.display.HTML object>"
      ]
     },
     "execution_count": 3,
     "metadata": {},
     "output_type": "execute_result"
    }
   ],
   "source": [
    "from IPython.core.display import HTML\n",
    "HTML(\"\"\"\n",
    "<style>\n",
    ".output_png {\n",
    "    display: table-cell;\n",
    "    text-align: center;\n",
    "    vertical-align: middle;\n",
    "}\n",
    "</style>\n",
    "\"\"\")"
   ]
  },
  {
   "cell_type": "code",
   "execution_count": 4,
   "id": "c236ef1c",
   "metadata": {},
   "outputs": [],
   "source": [
    "plt.rc(\"xtick\", labelsize=10)\n",
    "plt.rc(\"ytick\", labelsize=10)\n",
    "palette = sns.color_palette(\"Set1\")"
   ]
  },
  {
   "cell_type": "code",
   "execution_count": 5,
   "id": "c2fa04bc",
   "metadata": {},
   "outputs": [],
   "source": [
    "opts = Parser.compare()\n",
    "opts.n_exp = 100\n",
    "opts.real_theta = 1.0\n",
    "opts.majority_s = 0.8\n",
    "opts.dml_net = 'LinearNet'\n",
    "opts.sync_dml_net = 'LinearNet'"
   ]
  },
  {
   "cell_type": "markdown",
   "id": "0bc4d58e",
   "metadata": {},
   "source": [
    "In our paper, [Coordinated Double Machine Learning](https://arxiv.org/abs/2206.00885) [1] we show how coordinating the residuals in training the two predictive models $\\hat{m}(X)$ and $\\hat{\\ell}(X)$ may reduce the treatment effect estimation bias. Below is a short demonstration of increasing the hyperparameter $\\gamma$ that weight the regularization term of these residuals (equations 8-9 in [1]).\n",
    "The following code runs C-DML for various values of $\\gamma$:"
   ]
  },
  {
   "cell_type": "code",
   "execution_count": 6,
   "id": "18582f4b",
   "metadata": {},
   "outputs": [
    {
     "name": "stderr",
     "output_type": "stream",
     "text": [
      "running C-DML: 100%|██████████| 100/100 [03:56<00:00,  2.36s/it]\n"
     ]
    }
   ],
   "source": [
    "opts.real_theta = 1.0\n",
    "opts.gammas = sorted([0.0, 1.5, 1.6, 1.7, 1.8, 1.9])\n",
    "opts.n_gammas = len(opts.gammas)\n",
    "results = run(opts)"
   ]
  },
  {
   "cell_type": "code",
   "execution_count": null,
   "id": "1dbee3bc",
   "metadata": {},
   "outputs": [],
   "source": [
    "palette_ = [palette[0]] + [palette[1] for _ in opts.gammas]\n",
    "gammas_dict = {np.nan: 0.0}  # for DML\n",
    "gammas_dict.update({gamma: (1.0 + i) for i, gamma in enumerate(opts.gammas)})\n",
    "results[\"positions\"] = results[\"gamma\"].replace(to_replace=gammas_dict)"
   ]
  },
  {
   "cell_type": "markdown",
   "id": "97e9f56f",
   "metadata": {},
   "source": [
    "The code below visualizes the bias of DML and C-DML for these values of $\\gamma$:"
   ]
  },
  {
   "cell_type": "code",
   "execution_count": 8,
   "id": "e2f8c121",
   "metadata": {},
   "outputs": [
    {
     "data": {
      "image/png": "[encoded data removed]",
      "text/plain": [
       "<Figure size 432x288 with 2 Axes>"
      ]
     },
     "metadata": {},
     "output_type": "display_data"
    }
   ],
   "source": [
    "with sns.axes_style(\"whitegrid\"):\n",
    "    _, ax = plt.subplots(1, 1, figsize=(opts.n_gammas, 4))\n",
    "    boxplots = sns.boxplot(\n",
    "        data=results,\n",
    "        x=\"positions\",\n",
    "        y=\"bias\",\n",
    "        palette=palette_,\n",
    "        ax=ax,\n",
    "        linewidth=1.5,\n",
    "        boxprops=dict(facecolor=\"none\"),\n",
    "    )\n",
    "    ax.set_title(r\"$\\theta=$\" + str(1.0), fontsize=10)\n",
    "    ax.axhline(y=0.0, linestyle=\"--\", linewidth=0.75, color=\"black\")\n",
    "    ax.set_xlabel(\"\")\n",
    "    ax.set_ylabel(\"\")\n",
    "    ax.grid(visible=False)\n",
    "    ax.set_xticklabels([\"DML\"] + [str(gamma) for gamma in opts.gammas])\n",
    "\n",
    "    ax_twin = ax.twinx()\n",
    "    ax_twin.set_ylabel(r\"$\\Delta \\hat{\\theta} = \\hat{\\theta} - \\theta$\", fontsize=10, rotation=270, labelpad=20)\n",
    "    ax_twin.set_yticks([])\n",
    "    ax_twin.set_yticklabels([])\n",
    "\n",
    "    for box, c in zip(boxplots.artists, palette_):\n",
    "        box.set_edgecolor(c)\n",
    "\n",
    "plt.tight_layout()\n",
    "plt.show();"
   ]
  }
 ],
 "metadata": {
  "kernelspec": {
   "display_name": "Python 3",
   "language": "python",
   "name": "python3"
  },
  "language_info": {
   "codemirror_mode": {
    "name": "ipython",
    "version": 3
   },
   "file_extension": ".py",
   "mimetype": "text/x-python",
   "name": "python",
   "nbconvert_exporter": "python",
   "pygments_lexer": "ipython3",
   "version": "3.8.11"
  }
 },
 "nbformat": 4,
 "nbformat_minor": 5
}