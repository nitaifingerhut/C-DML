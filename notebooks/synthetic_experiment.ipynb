{
 "cells": [
  {
   "cell_type": "markdown",
   "id": "097b575b",
   "metadata": {},
   "source": [
    "## Setup"
   ]
  },
  {
   "cell_type": "code",
   "execution_count": 1,
   "id": "afba64f0",
   "metadata": {},
   "outputs": [],
   "source": [
    "import os\n",
    "import sys\n",
    "\n",
    "root = os.path.dirname(os.getcwd())\n",
    "sys.path.append(root)\n",
    "sys.path.append(os.path.join(root, \"src\"))"
   ]
  },
  {
   "cell_type": "code",
   "execution_count": 2,
   "id": "bcc9d79a",
   "metadata": {},
   "outputs": [],
   "source": [
    "import copy\n",
    "import matplotlib.pyplot as plt\n",
    "import pandas as pd\n",
    "import seaborn as sns\n",
    "\n",
    "from src.synthetic_experiment import run_cv\n",
    "from src.utils.parser import Parser"
   ]
  },
  {
   "cell_type": "code",
   "execution_count": 3,
   "id": "61919e88",
   "metadata": {},
   "outputs": [
    {
     "data": {
      "text/html": [
       "\n",
       "<style>\n",
       ".output_png {\n",
       "    display: table-cell;\n",
       "    text-align: center;\n",
       "    vertical-align: middle;\n",
       "}\n",
       "</style>\n"
      ],
      "text/plain": [
       "<IPython.core.display.HTML object>"
      ]
     },
     "execution_count": 3,
     "metadata": {},
     "output_type": "execute_result"
    }
   ],
   "source": [
    "from IPython.core.display import HTML\n",
    "HTML(\"\"\"\n",
    "<style>\n",
    ".output_png {\n",
    "    display: table-cell;\n",
    "    text-align: center;\n",
    "    vertical-align: middle;\n",
    "}\n",
    "</style>\n",
    "\"\"\")"
   ]
  },
  {
   "cell_type": "code",
   "execution_count": 4,
   "id": "8eedf087",
   "metadata": {},
   "outputs": [],
   "source": [
    "plt.rc(\"xtick\", labelsize=10)\n",
    "plt.rc(\"ytick\", labelsize=10)\n",
    "x = sns.color_palette(\"Set1\")\n",
    "palette = {\"DML\": x[0], \"C-DML\": x[1]}"
   ]
  },
  {
   "cell_type": "code",
   "execution_count": 5,
   "id": "ec37d659",
   "metadata": {},
   "outputs": [],
   "source": [
    "opts = Parser.compare()\n",
    "opts.data_type = 'synthetic'\n",
    "opts.majority_s = 0.8\n",
    "opts.dml_net = 'NonLinearNet'\n",
    "opts.cdml_net = 'NonLinearNet'\n",
    "opts.sync_dml_lr = 0.3\n",
    "opts.n_exp = 100"
   ]
  },
  {
   "cell_type": "markdown",
   "id": "b828e728",
   "metadata": {},
   "source": [
    "The C-DML algorithm is details in our paper ([Coordinated Double Machine Learning](https://arxiv.org/abs/2206.00885)) and denoted as **Algorithm 2** is detailed below in code blocks. Due to multiprocessing package not working properly on IPython, the attached python file has all the code, and we show it here step by step."
   ]
  },
  {
   "cell_type": "markdown",
   "id": "8b41eb92",
   "metadata": {},
   "source": [
    "```\n",
    "def dml_theta_estimator(y: torch.Tensor, d: torch.Tensor, m_hat: torch.Tensor, l_hat: torch.Tensor) -> float:\n",
    "    v_hat = d - m_hat\n",
    "    u_hat = y - l_hat\n",
    "    theta_hat = torch.mean(v_hat * u_hat) / torch.mean(v_hat * v_hat)\n",
    "    return theta_hat.item()\n",
    "```"
   ]
  },
  {
   "cell_type": "markdown",
   "id": "93f34e16",
   "metadata": {},
   "source": [
    "```\n",
    "def run_dml(opts, D1, D2, D2_a, D2_b, exp) -> Tuple[Dict, torch.Tensor, Dict]:\n",
    "    preds = dict(theta=opts.real_theta, gamma=np.nan, exp=exp, method=\"DML\")\n",
    "\n",
    "    # Train on D1\n",
    "    double_ml = DoubleMachineLearningPyTorch.init_from_opts(opts=opts)\n",
    "    params = double_ml.fit_params(opts=opts)\n",
    "    double_ml = double_ml.fit(train=D1, test=D2, **params)\n",
    "\n",
    "    # Predict theta on D2_a\n",
    "    m_hat, l_hat = double_ml.predict(D2_a[\"x\"])\n",
    "    theta_init = dml_theta_estimator(y=D2_a[\"y\"], d=D2_a[\"d\"], m_hat=m_hat, l_hat=l_hat)\n",
    "    u_hat, v_hat = D2_a[\"y\"] - l_hat, D2_a[\"d\"] - m_hat\n",
    "    stats = {\n",
    "        \"corr.abs\": torch.mean(torch.absolute(u_hat * v_hat)).item(),\n",
    "        \"res_m.2\": torch.mean(v_hat ** 2).item(),\n",
    "        \"res_l.2\": torch.mean(u_hat ** 2).item()\n",
    "    }\n",
    "\n",
    "    # Predict g(X) on D2_b\n",
    "    m_hat, l_hat = double_ml.predict(D2_b[\"x\"])\n",
    "    g_hat = l_hat - theta_init * m_hat\n",
    "\n",
    "    # Predict final theta on D2\n",
    "    m_hat, l_hat = double_ml.predict(D2[\"x\"])\n",
    "    dml_theta = dml_theta_estimator(y=D2[\"y\"], d=D2[\"d\"], m_hat=m_hat, l_hat=l_hat)\n",
    "    preds[\"theta_hat\"] = dml_theta\n",
    "    preds[\"bias\"] = dml_theta - opts.real_theta\n",
    "\n",
    "    return preds, g_hat, stats\n",
    "```"
   ]
  },
  {
   "cell_type": "markdown",
   "id": "5138b1da",
   "metadata": {},
   "source": [
    "```\n",
    "def run_cdml(opts: argparse.Namespace, D1, D2, D2_a, D2_b, exp, g_hat, dml_stats) -> Dict:\n",
    "    results = []\n",
    "    for gamma in opts.gammas:\n",
    "        opts.sync_dml_start_gamma = gamma\n",
    "\n",
    "        sync_dml = SYNChronizedDoubleMachineLearning.init_from_opts(opts=opts)\n",
    "        params = sync_dml.fit_params(opts=opts, dml_stats=dml_stats)\n",
    "\n",
    "        preds = dict(theta=opts.real_theta, gamma=gamma, exp=exp, method=\"C-DML\")\n",
    "\n",
    "        # Train on D1\n",
    "        sync_dml = sync_dml.fit(train=D1, test=D2, **params)\n",
    "\n",
    "        # Predict theta on D2_a\n",
    "        m_hat, l_hat = sync_dml.predict(D2_a[\"x\"])\n",
    "        sync_dml_theta_for_cv = dml_theta_estimator(y=D2_a[\"y\"], d=D2_a[\"d\"], m_hat=m_hat, l_hat=l_hat)\n",
    "\n",
    "        # Residual error on D2_b\n",
    "        sync_dml_y_hat = g_hat + sync_dml_theta_for_cv * D2_b[\"d\"]\n",
    "        preds[\"y_res.2\"] = torch.mean((D2_b[\"y\"] - sync_dml_y_hat) ** 2).item()\n",
    "\n",
    "        # Predict final theta on D2\n",
    "        m_hat, l_hat = sync_dml.predict(D2[\"x\"])\n",
    "        sync_dml_theta = dml_theta_estimator(y=D2[\"y\"], d=D2[\"d\"], m_hat=m_hat, l_hat=l_hat)\n",
    "        preds[\"theta_hat\"] = sync_dml_theta\n",
    "        preds[\"bias\"] = sync_dml_theta - opts.real_theta\n",
    "\n",
    "        results.append(preds)\n",
    "\n",
    "    results = pd.DataFrame(results)\n",
    "    results = results.sort_values(by=\"y_res.2\", ascending=True)\n",
    "    preds = results.iloc[0].squeeze().to_dict()\n",
    "\n",
    "    return preds\n",
    "```"
   ]
  },
  {
   "cell_type": "markdown",
   "id": "9d63cc4c",
   "metadata": {},
   "source": [
    "```\n",
    "def run_experiment(opts: argparse.Namespace, exp: int) -> Dict[str, Dict]:\n",
    "    data = DataSynthetic.init_from_opts(opts, as_tensors=True)\n",
    "\n",
    "    D1, D2 = data.generate(real_theta=opts.real_theta, train_size=0.5, seed=exp)\n",
    "    D2_copy = {k: v.detach().clone() for k, v in D2.items()}\n",
    "    D2_a, D2_b = data.__train_test__(x=D2_copy[\"x\"], d=D2_copy[\"d\"], y=D2_copy[\"y\"], train_size=0.5, seed=exp)\n",
    "\n",
    "    dml_results, g_hat, dml_stats = run_dml(opts, D1, D2, D2_a, D2_b, exp)\n",
    "    cdml_results = run_cdml(opts, D1, D2, D2_a, D2_b, exp, g_hat, dml_stats)\n",
    "\n",
    "    return {\n",
    "        \"dml_results\": dml_results,\n",
    "        \"cdml_results\": cdml_results,\n",
    "    }\n",
    "```"
   ]
  },
  {
   "cell_type": "markdown",
   "id": "99acf75f",
   "metadata": {},
   "source": [
    "```\n",
    "def run_cv(opts: argparse.Namespace) -> pd.DataFrame:\n",
    "\n",
    "    pbar = tqdm(total=opts.n_exp, desc=f\"running C-DML\")\n",
    "\n",
    "    def _update(*a):\n",
    "        pbar.update()\n",
    "\n",
    "    with Pool(processes=opts.n_processes) as pool:\n",
    "        tasks = [\n",
    "            pool.apply_async(run_experiment, args=(opts, i), callback=_update)\n",
    "            for i in range(opts.n_exp)\n",
    "        ]\n",
    "        [task.wait() for task in tasks]\n",
    "        results = [task.get() for task in tasks]\n",
    "\n",
    "    pbar.close()\n",
    "\n",
    "    results = [result[\"dml_results\"] for result in results] + [result[\"cdml_results\"] for result in results]\n",
    "    return pd.DataFrame(results)\n",
    "```"
   ]
  },
  {
   "cell_type": "markdown",
   "id": "7b366b41",
   "metadata": {},
   "source": [
    "Below we run experiments with $\\theta=0$ for increasing values of $\\rho$. $\\rho$ is the autoregression coefficient that controls how different features are correlated. The higher $\\rho$ is - the more correlated the features are. **Section 3.3** in [1] details the synthetic data generation process."
   ]
  },
  {
   "cell_type": "code",
   "execution_count": 6,
   "id": "1da8c8cb",
   "metadata": {},
   "outputs": [
    {
     "name": "stderr",
     "output_type": "stream",
     "text": [
      "running C-DML: 100%|██████████| 100/100 [21:47<00:00, 13.08s/it]\n",
      "running C-DML: 100%|██████████| 100/100 [22:16<00:00, 13.37s/it]\n",
      "running C-DML: 100%|██████████| 100/100 [22:12<00:00, 13.33s/it]\n"
     ]
    }
   ],
   "source": [
    "rhos = (0.1, 0.5, 0.9)\n",
    "opts.real_theta = 0.0\n",
    "opts.gammas = [0.0, 1.0, 10., 100.]\n",
    "opts.n_gammas = len(opts.gammas)\n",
    "\n",
    "results0_df = pd.DataFrame()\n",
    "for rho in rhos:\n",
    "\n",
    "    opts_copy = copy.deepcopy(opts)\n",
    "    opts_copy.ar_rho = rho\n",
    "\n",
    "    results0_df_rho = run_cv(opts_copy)\n",
    "    results0_df_rho[\"rho\"] = rho\n",
    "    results0_df = pd.concat([results0_df, results0_df_rho], ignore_index=True,)"
   ]
  },
  {
   "cell_type": "markdown",
   "id": "8a1ec917",
   "metadata": {},
   "source": [
    "Repeating the process for $\\theta=1$:"
   ]
  },
  {
   "cell_type": "code",
   "execution_count": 7,
   "id": "afa8b624",
   "metadata": {},
   "outputs": [
    {
     "name": "stderr",
     "output_type": "stream",
     "text": [
      "running C-DML: 100%|██████████| 100/100 [25:56<00:00, 15.57s/it]\n",
      "running C-DML: 100%|██████████| 100/100 [25:46<00:00, 15.47s/it]\n",
      "running C-DML: 100%|██████████| 100/100 [26:12<00:00, 15.73s/it]\n"
     ]
    }
   ],
   "source": [
    "rhos = (0.1, 0.5, 0.9)\n",
    "opts.real_theta = 1.0\n",
    "opts.gammas = [0.0, 0.1, 0.5, 1.0, 1.5]\n",
    "opts.n_gammas = len(opts.gammas)\n",
    "\n",
    "results1_df = pd.DataFrame()\n",
    "for rho in rhos:\n",
    "\n",
    "    opts_copy = copy.deepcopy(opts)\n",
    "    opts_copy.ar_rho = rho\n",
    "\n",
    "    results1_df_rho = run_cv(opts_copy)\n",
    "    results1_df_rho[\"rho\"] = rho\n",
    "    results1_df = pd.concat([results1_df, results1_df_rho], ignore_index=True,)"
   ]
  },
  {
   "cell_type": "markdown",
   "id": "8f638a9f",
   "metadata": {},
   "source": [
    "The code below visualizes the results:"
   ]
  },
  {
   "cell_type": "code",
   "execution_count": 8,
   "id": "c0aefbba",
   "metadata": {},
   "outputs": [
    {
     "data": {
      "image/png": "[encoded data removed]",
      "text/plain": [
       "<Figure size 648x576 with 4 Axes>"
      ]
     },
     "metadata": {},
     "output_type": "display_data"
    }
   ],
   "source": [
    "hue_order = [\"DML\", \"C-DML\"]\n",
    "data = [(0.0, results0_df), (1.0, results1_df)]\n",
    "\n",
    "with sns.axes_style(\"whitegrid\"):\n",
    "    _, axs = plt.subplots(len(data), 1, figsize=(9, 4 * len(data)))\n",
    "\n",
    "    for ax, (theta, df) in zip(axs, data):\n",
    "\n",
    "        boxplots = sns.boxplot(\n",
    "            data=df,\n",
    "            x=\"rho\",\n",
    "            y=\"bias\",\n",
    "            hue=\"method\",\n",
    "            hue_order=hue_order,\n",
    "            palette=palette,\n",
    "            ax=ax,\n",
    "            linewidth=1.5,\n",
    "            boxprops=dict(facecolor=\"none\"),\n",
    "        )\n",
    "\n",
    "        for box, key in zip(boxplots.artists, len(rhos) * hue_order):\n",
    "            box.set_edgecolor(palette[key])\n",
    "\n",
    "        ax.set(facecolor=\"white\")\n",
    "        ax.axhline(y=0.0, linestyle=\"-\", linewidth=0.5, color=\"black\")\n",
    "        ax.set_title(r\"$\\theta=$\" + str(int(theta)), fontsize=20)\n",
    "        ax.set_xticklabels([r\"$\\rho=$\" + str(rho) for rho in rhos], fontsize=20)\n",
    "        ax.set_xlabel(\"\")\n",
    "        ax.set_ylabel(\"\")\n",
    "        ax.legend_.set_title(None)\n",
    "        ax.grid(visible=False)\n",
    "\n",
    "        ax_twin = ax.twinx()\n",
    "        ax_twin.set_ylabel(r\"$\\Delta \\hat{\\theta}$\", fontsize=20, rotation=270, labelpad=25)\n",
    "        ax_twin.set_yticks([])\n",
    "        ax_twin.set_yticklabels([])\n",
    "        ax_twin.grid(visible=False)\n",
    "\n",
    "    axs[0].get_legend().remove()\n",
    "\n",
    "    for ax in axs:\n",
    "        ax.spines[\"top\"].set(visible=True, color=\"black\")\n",
    "        ax.spines[\"bottom\"].set(visible=True, color=\"black\")\n",
    "        ax.spines[\"left\"].set(visible=True, color=\"black\")\n",
    "        ax.spines[\"right\"].set(visible=True, color=\"black\")\n",
    "\n",
    "plt.tight_layout()\n",
    "plt.subplots_adjust(hspace=0.3)\n",
    "plt.show();"
   ]
  },
  {
   "cell_type": "markdown",
   "id": "61d5b476",
   "metadata": {},
   "source": [
    "The above figure shows the treatment estimation bias of DML and C-DML. In the case of $\\theta=0$ which corresponds to a null hypothesis of no treatment effect, our purposed regularization $\\mathcal{L}_b$ coincide with DML's bias term, $\\mathcal{B}_{DML}$, and C-DML outperform DML. In the case of $\\theta=1$, C-DML still achieves lower bias, due to the cross-validation process described in **Section 3.2** in [1]."
   ]
  }
 ],
 "metadata": {
  "kernelspec": {
   "display_name": "Python 3",
   "language": "python",
   "name": "python3"
  },
  "language_info": {
   "codemirror_mode": {
    "name": "ipython",
    "version": 3
   },
   "file_extension": ".py",
   "mimetype": "text/x-python",
   "name": "python",
   "nbconvert_exporter": "python",
   "pygments_lexer": "ipython3",
   "version": "3.8.11"
  }
 },
 "nbformat": 4,
 "nbformat_minor": 5
}